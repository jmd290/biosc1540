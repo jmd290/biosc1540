{
  "cells": [
    {
      "cell_type": "markdown",
      "metadata": {
        "id": "view-in-github",
        "colab_type": "text"
      },
      "source": [
        "<a href=\"https://colab.research.google.com/github/jmd290/biosc1540/blob/main/a02.ipynb\" target=\"_parent\"><img src=\"https://colab.research.google.com/assets/colab-badge.svg\" alt=\"Open In Colab\"/></a>"
      ]
    },
    {
      "cell_type": "markdown",
      "metadata": {
        "id": "4ZMUY2AJv1OC"
      },
      "source": [
        "# Assignment 02\n",
        "\n",
        "**Due**: Jan 25 at 11:59 pm\n",
        "\n",
        "**Points**: 10\n",
        "\n",
        "In this assignment, we will explore a [real dataset](https://www.kaggle.com/competitions/lish-moa/overview) involving gene expression data and its change when cells are exposed to different drugs.\n",
        "This type of data is used to elucidate the drug's mechanism of action (MoA).\n",
        "\n",
        "You can find the documentation for the relevant pages:\n",
        "\n",
        "-   [numpy](https://numpy.org/doc/stable/)\n",
        "-   [pandas](https://pandas.pydata.org/docs/index.html)\n",
        "-   [matplotlib](https://matplotlib.org/)"
      ]
    },
    {
      "cell_type": "markdown",
      "metadata": {
        "id": "2wKi-zm5v1OE"
      },
      "source": [
        "## Setup\n",
        "\n",
        "The following cell is needed to setup your Jupyter Notebook.\n"
      ]
    },
    {
      "cell_type": "code",
      "execution_count": null,
      "metadata": {
        "id": "jg6dFJIwv1OE"
      },
      "outputs": [],
      "source": [
        "import numpy as np\n",
        "import pandas as pd\n",
        "import matplotlib.pyplot as plt"
      ]
    },
    {
      "cell_type": "markdown",
      "metadata": {
        "id": "VkBRSL-0v1OF"
      },
      "source": [
        "## Problem 1\n",
        "\n",
        "Below, we have a URL stored in `CSV_PATH_FEATURES` that direct to a comma separated value (CSV) file.\n",
        "Use pandas to load the CSV file located at `CSV_PATH_FEATURES` into a DataFrame, and store the DataFrame in a variable named `df_feat`."
      ]
    },
    {
      "cell_type": "code",
      "execution_count": null,
      "metadata": {
        "id": "M4KFvQMhv1OF"
      },
      "outputs": [],
      "source": [
        "CSV_PATH_FEATURES = \"https://gitlab.com/oasci/courses/pitt/biosc1540-2024s/-/raw/main/biosc1540/files/csv/moa_cancer/train_features.csv\""
      ]
    },
    {
      "cell_type": "code",
      "execution_count": null,
      "metadata": {
        "id": "RGKJAP1Fv1OF"
      },
      "outputs": [],
      "source": [
        "df_feat = pd.read_csv(CSV_PATH_FEATURES)"
      ]
    },
    {
      "cell_type": "markdown",
      "metadata": {
        "id": "W-yi7Y2sv1OG"
      },
      "source": [
        "We have the following information in our CSV file: features `g-` signify gene expression data, and `c-` signify cell viability data.\n",
        "`cp_type` indicates samples treated with a compound (`cp_vehicle`) or with a control perturbation (`ctrl_vehicle`); control perturbations have no MoAs; `cp_time` and `cp_dose` indicate treatment duration (24, 48, 72 hours) and dose (high or low)."
      ]
    },
    {
      "cell_type": "markdown",
      "metadata": {
        "id": "zi_NxZfGv1OG"
      },
      "source": [
        "## Problem 2\n",
        "\n",
        "Drop the column `sig_id` from `df_feat` and store the resulting DataFrame in a variable called `df_feat_cleaned`.\n",
        "Be sure to not overwrite your `df_feat` variable."
      ]
    },
    {
      "cell_type": "code",
      "execution_count": null,
      "metadata": {
        "id": "N0QvlVsCv1OG"
      },
      "outputs": [],
      "source": [
        "df_feat_cleaned = df_feat.drop(labels=[\"sig_id\"], axis=1)"
      ]
    },
    {
      "cell_type": "markdown",
      "metadata": {
        "id": "DvuXPVt1v1OG"
      },
      "source": [
        "## Problem 3\n",
        "\n",
        "Slice `df_feat_cleaned` using a boolean mask where `cp_time` is equal to `24` and store it in a new variable called `df_feat_sliced`."
      ]
    },
    {
      "cell_type": "code",
      "execution_count": null,
      "metadata": {
        "id": "rjkLeIJ9v1OG"
      },
      "outputs": [],
      "source": [
        "mask = df_feat_cleaned[\"cp_time\"] == 24\n",
        "df_feat_sliced = df_feat_cleaned[mask]"
      ]
    },
    {
      "cell_type": "markdown",
      "metadata": {
        "id": "yvzdFlQQv1OG"
      },
      "source": [
        "## Problem 4\n",
        "\n",
        "Using `df_feat_sliced`, create a variable named `cp_type_list` and assign it a list containing each unique value of `cp_type`.\n",
        "Hint: The length of your `cp_type_list` should be equal to `2`."
      ]
    },
    {
      "cell_type": "code",
      "execution_count": null,
      "metadata": {
        "id": "w_5h_IRxv1OG"
      },
      "outputs": [],
      "source": [
        "cp_type_list = df_feat_sliced[\"cp_type\"].unique()"
      ]
    },
    {
      "cell_type": "markdown",
      "metadata": {
        "id": "LXHgWDA4v1OG"
      },
      "source": [
        "## Problem 5\n",
        "\n",
        "Using `df_feat_sliced`, store the data under column `g-0` in a NumPy array called `g_0_expression` and `g-1` in `g_1_expression`."
      ]
    },
    {
      "cell_type": "code",
      "execution_count": null,
      "metadata": {
        "id": "7Ji3nnmDv1OH"
      },
      "outputs": [],
      "source": [
        "g_0_expression = df_feat_sliced['g-0'].to_numpy()\n",
        "g_1_expression = df_feat_sliced['g-1'].to_numpy()"
      ]
    },
    {
      "cell_type": "markdown",
      "metadata": {
        "id": "Oe45vxhev1OH"
      },
      "source": [
        "## Problem 6\n",
        "\n",
        "Create a dictionary named `g_stats` with keys `g-0` and `g-1`.\n",
        "Set the values for these keys to be empty dictionaries `{}`."
      ]
    },
    {
      "cell_type": "code",
      "execution_count": null,
      "metadata": {
        "id": "v0R78W2Pv1OH"
      },
      "outputs": [],
      "source": [
        "g_stats = dict.fromkeys('g-0', 'g-1')"
      ]
    },
    {
      "cell_type": "markdown",
      "metadata": {
        "id": "cxoAFO-dv1OH"
      },
      "source": [
        "Now, compute the following statistics and store them under their respective key.\n",
        "\n",
        "-   `mean` the mean\n",
        "-   `std`: standard deviation\n",
        "\n",
        "For example, compute the mean of `g_0_expression` and store it in `g-0`."
      ]
    },
    {
      "cell_type": "code",
      "execution_count": null,
      "metadata": {
        "id": "nUuCLtfWv1OH"
      },
      "outputs": [],
      "source": [
        "g_stats['g-0'] = (g_0_expression.mean, g_0_expression.std)\n",
        "g_stats['g-1'] = (g_1_expression.mean, g_1_expression.std)"
      ]
    },
    {
      "cell_type": "markdown",
      "metadata": {
        "id": "ssTYGNYev1OH"
      },
      "source": [
        "## Problem 7\n",
        "\n",
        "Create a scatter plot with `g_0_expression` on the x-axis and `g_1_expression` on the y-axis."
      ]
    },
    {
      "cell_type": "code",
      "execution_count": null,
      "metadata": {
        "id": "ypZBpMpKv1OH",
        "outputId": "b9d402f8-d608-48ae-f9b4-7f4e7fdcd3ff",
        "colab": {
          "base_uri": "https://localhost:8080/",
          "height": 450
        }
      },
      "outputs": [
        {
          "output_type": "display_data",
          "data": {
            "text/plain": [
              "<Figure size 640x480 with 1 Axes>"
            ],
            "image/png": "[encoded data removed]"
          },
          "metadata": {}
        }
      ],
      "source": [
        "fig, ax = plt.subplots(ncols=1, nrows=1)\n",
        "label_1 = \"g_0_expression\"\n",
        "label_2 = \"g_1_expression\"\n",
        "plt.scatter(\n",
        "    g_0_expression,\n",
        "    g_1_expression,\n",
        "    alpha=0.75,\n",
        "    color = 'green',\n",
        ")\n",
        "plt.xlabel(label_1)\n",
        "plt.ylabel(label_2)\n",
        "plt.show()"
      ]
    }
  ],
  "metadata": {
    "kernelspec": {
      "display_name": "biosc1540-2024s-dev",
      "language": "python",
      "name": "python3"
    },
    "language_info": {
      "codemirror_mode": {
        "name": "ipython",
        "version": 3
      },
      "file_extension": ".py",
      "mimetype": "text/x-python",
      "name": "python",
      "nbconvert_exporter": "python",
      "pygments_lexer": "ipython3",
      "version": "3.11.7"
    },
    "colab": {
      "provenance": [],
      "include_colab_link": true
    }
  },
  "nbformat": 4,
  "nbformat_minor": 0
}